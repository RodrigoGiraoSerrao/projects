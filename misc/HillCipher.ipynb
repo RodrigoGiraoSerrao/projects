{
 "cells": [
  {
   "cell_type": "markdown",
   "metadata": {},
   "source": [
    "Hill Cipher\n",
    "======\n",
    "\n",
    "1. [Introduction](#introduction)\n",
    "2. [Modular arithmetic](#modular_arithmetic)\n",
    "   - [Multiplication and division](#multiplication_and_division)\n",
    "   - [Matrices](#matrices)\n",
    "3. [Hill Cipher method](#hill_cipher)\n",
    "  - [Alphabet](#alphabet)\n",
    "  - [Strings <-> numerical vectors](#strings_vectors)\n",
    "  - [Encoding](#encoding)\n",
    "  - [Inverting the key matrix and decoding](#key_matrix)\n",
    "  - [Extras](#extras)\n",
    "4. [Breaking the cipher](#hacking)\n",
    "5. [All the code](#allcode)"
   ]
  },
  {
   "cell_type": "markdown",
   "metadata": {},
   "source": [
    "<a id=\"introduction\"></a>\n",
    "Introduction\n",
    "-------------\n",
    "\n",
    "The Hill Cipher is a cipher that uses linear algebra and modular arithmetic to encrypt messages. The message you want to encrypt is split into chunks of size $n$ and those chunks are turned into vectors of integers. Then you multiply every vector by your secret $n \\times n$ matrix and you put everything together, to make the encrypted message.\n",
    "\n",
    "For this we will fix the alphabet as _\" abcdefghijklmnopqrstuvwxyz,.\"_ (notice the blank space in the beginning) which allows us to get a correspondence between the characters in the alphabet and the numbers $0$ through $28$.\n",
    "\n",
    "If you want to encrypt the message \"cake\", assuming we have the key matrix M\n",
    "\n",
    "$$M = \\begin{bmatrix} 1 & 2 \\\\ 3 & 4 \\end{bmatrix}$$\n",
    "\n",
    "all we have to do is turn \"cake\" into $(3,1,11,5)$ and then multiply the key matrix $M$ with the column vectors $[3, 1]^T$ and $[11, 5]^T$, which gives\n",
    "\n",
    "$$M[3, 1]^T = [5, 13]^T,\\ M[11, 5]^T = [21, 53]^T$$\n",
    "\n",
    "then we take everything modulo $29$, which gives $[5, 13] \\equiv [5, 13]$ and $[21, 53] \\equiv [21, 24] \\mod 29$ and to finish it up we convert the numbers back into letters, giving $(5,13,21,24) \\mapsto$ \"emux\"\n",
    "\n",
    "If we wanted to decrypt the message, we just needed to find the inverse of $M$ modulo $29$, which happens to be\n",
    "\n",
    "$$M^{-1} = \\begin{bmatrix} 27 & 1 \\\\ 16 & 14 \\end{bmatrix}$$\n",
    "\n",
    "and we would repeat the whole process but with $M^{-1}$ instead of $M$."
   ]
  },
  {
   "cell_type": "markdown",
   "metadata": {},
   "source": [
    "<a id=\"modular_arithmetic\"></a>\n",
    "Modular Arithmetic\n",
    "--------------------\n",
    "\n",
    "Modular arithmetic is pretty similar to regular arithmetic, but we do all the calculations modulo $m$. In a simplified manner, we want all numbers to be in the set $\\{0, 1, 2, \\cdots, m-1\\}$ which we will call $\\mathbb{Z}_m$. To keep all the numbers inside $\\mathbb{Z}_m$, we can add/subtract multiples of $m$ whenever needed.\n",
    "\n",
    "Modular arithmetic is around us in our daily lives, even though people don't notice! The way we deal with the hours of the day is by making calculations in $\\mathbb{Z}_{24}$: suppose now it is 13h. What will be the time from 14 hours from now? $13 + 14 = 27$ but of course it won't be 27h because a day only has 24h. But we know that $27 \\equiv 3 \\mod 24$ hence it will be 3 in the morning.\n",
    "\n",
    "Some other examples include\n",
    "$$\\begin{align}\n",
    "3 \\equiv 1 &\\mod{2} \\\\\n",
    "15 \\equiv 3 &\\mod{12} \\\\\n",
    "-1 \\equiv 4 &\\mod{5} \\\\\n",
    "102 \\equiv 0 &\\mod{3}\n",
    "\\end{align}$$"
   ]
  },
  {
   "cell_type": "markdown",
   "metadata": {},
   "source": [
    "In Python, we can find the correspondent of a number $n$ in $\\mathbb{Z}_m$ by typing `n % m` which is also the remainder of the division of $n$ by $m$."
   ]
  },
  {
   "cell_type": "code",
   "execution_count": 129,
   "metadata": {},
   "outputs": [
    {
     "name": "stdout",
     "output_type": "stream",
     "text": [
      "1\n",
      "3\n",
      "4\n",
      "0\n"
     ]
    }
   ],
   "source": [
    "print(3 % 2)\n",
    "print(15 % 12)\n",
    "print(-1 % 5)\n",
    "print(102 % 3)"
   ]
  },
  {
   "cell_type": "markdown",
   "metadata": {},
   "source": [
    "<a id=\"multiplication_and_division\"></a>\n",
    "### Multiplication and division\n",
    "\n",
    "When we perform multiplications, we can deal with each of the factors separately. In fact,\n",
    "$$5 \\times 13 \\equiv 2 \\times 13 \\equiv 2 \\times 1 \\mod{3}$$\n",
    "because we have that $5 \\equiv 2 \\mod{3}$ and $13 \\equiv 1 \\mod{3}$.\n",
    "\n",
    "The only operation that requires a bit more caution is division. Recall that dividing by $d$ is the same as multiplying by $\\frac1d = d^{-1}$, the inverse of $d$. If we manage to characterize the \"inverse of $d$\" we may be able to generalize it to modular arithmetic. The inverse of $d$ is a special number $q$ (which we denote by $d^{-1}$) with the amazing property that $qd = dq = 1$. In modular arithmetic, we will define the inverse of a number $n$ as the number $n^{-1}$ such that $n^{-1}n = nn^{-1} \\equiv 1 \\mod{m}$\n",
    "\n",
    "For example, the inverse of $2$ modulo $3$ is $2$, because $2\\times2 = 4 \\equiv 1 \\mod{3}$. Some other examples include $10^{-1} = 4 \\mod{13}$, $5^{-1} = 5 \\mod{6}$ and $7^{-1} = 10 \\mod{23}$.\n",
    "\n",
    "When we are dealing with regular division in $\\mathbb{R}$, the only number that does not have an inverse is $0$. When we are dealing with modular arithmetic in $\\mathbb{Z}_m$, $0$ doesn't have an inverse. But it may happen that, in $\\mathbb{Z}_m$, other numbers cannot have an inverse. Take $\\mathbb{Z}_4$ as an example; we will see now that $2$ cannot have an inverse in $\\mathbb{Z}_4$: let us call $n$ to the potential inverse of $2$, then $2n \\equiv 1 \\mod{4}$. But regardless of the $n$ we choose, $2n$ will always be an even number, while $x \\equiv 1 \\mod{4}$ has to be odd. (In fact if a number $x$ is equivalent to $1$ modulo $m$, then $x$ has to be of the form $x = km + 1$ for some integer $k$.)\n",
    "\n",
    "For people that are not familiar with modular arithmetic this might be a lot to take in. Just take into account that inverting numbers in $\\mathbb{Z}_m$ may be really annoying. The following two rules apply:\n",
    " - If the $m$ in $\\mathbb{Z}_m$ is prime, we usually write $\\mathbb{Z}_p$ and **all** numbers except $0$ have an inverse;\n",
    " - If $m$ is not prime, the numbers in $\\mathbb{Z}_m$ that you **can** invert are the ones who do **not** share common divisors with $m$."
   ]
  },
  {
   "cell_type": "markdown",
   "metadata": {},
   "source": [
    "For this notebook we will write our own function that finds inverses in $\\mathbb{Z}_m$. We will decide that if a number $n$ does not have an inverse in $\\mathbb{Z}_m$ then the function will return $0$; otherwise it will return its inverse."
   ]
  },
  {
   "cell_type": "code",
   "execution_count": 130,
   "metadata": {
    "collapsed": true
   },
   "outputs": [],
   "source": [
    "def inversemod(n: int, mod: int) -> int:\n",
    "    for i in range(1, mod+1):\n",
    "        if (n*i % mod) == 1:\n",
    "            return i\n",
    "    else:\n",
    "        return 0"
   ]
  },
  {
   "cell_type": "markdown",
   "metadata": {},
   "source": [
    "We will use this function to verify that the inverses I stated above are, in fact, inverses. I will also show that in $\\mathbb{Z}_{64}$ the invertible numbers are the odd ones (according to the rule, the numbers that can be inverted in $\\mathbb{Z}_{64}$ are the ones who don't share divisors with $64 = 2^6$, i.e. the odd numbers."
   ]
  },
  {
   "cell_type": "code",
   "execution_count": 131,
   "metadata": {},
   "outputs": [
    {
     "name": "stdout",
     "output_type": "stream",
     "text": [
      "True\n",
      "True\n",
      "True\n",
      "True\n",
      "[0, 1, 0, 43, 0, 13, 0, 55, 0, 57, 0, 35, 0, 5, 0, 47, 0, 49, 0, 27, 0, 61, 0, 39, 0, 41, 0, 19, 0, 53, 0, 31, 0, 33, 0, 11, 0, 45, 0, 23, 0, 25, 0, 3, 0, 37, 0, 15, 0, 17, 0, 59, 0, 29, 0, 7, 0, 9, 0, 51, 0, 21, 0, 63]\n"
     ]
    }
   ],
   "source": [
    "print(inversemod(2, 3) == 2)\n",
    "print(inversemod(10, 13) == 4)\n",
    "print(inversemod(5, 6) == 5)\n",
    "print(inversemod(7, 23) == 10)\n",
    "print(list(map(lambda n: inversemod(n, 64), [i for i in range(64)])))"
   ]
  },
  {
   "cell_type": "code",
   "execution_count": 132,
   "metadata": {
    "collapsed": true
   },
   "outputs": [],
   "source": [
    "import numpy as np"
   ]
  },
  {
   "cell_type": "markdown",
   "metadata": {},
   "source": [
    "### Matrices\n",
    "\n",
    "Working with matrices can be done in the usual way, but in the end of additions/subtractions/multiplications we just take everything modulo $m$.\n",
    "\n",
    "We will need to invert matrices in our method. Usually, the matrices need to have non-zero determinant in order for them to be invertible. In $\\mathbb{Z}_m$, there is a similar criterion: a matrix $M$ is invertible in $\\mathbb{Z}_m$ if $\\det{M} \\not\\equiv 0 \\mod{m}$ and the Gauss-Jordan method still works in $\\mathbb{Z}_m$.\n",
    "\n",
    "Below I show a couple of matrix operations modulo $29$."
   ]
  },
  {
   "cell_type": "code",
   "execution_count": 133,
   "metadata": {},
   "outputs": [
    {
     "name": "stdout",
     "output_type": "stream",
     "text": [
      "[[ 59  29]\n",
      " [145  59]]\n",
      "[[1 0]\n",
      " [0 1]]\n",
      "[[ 22.   0.   0.   0.]\n",
      " [  0.   1.   0.   0.]\n",
      " [  0.   0.   3.   0.]\n",
      " [  0.   0.   0.   6.]]\n",
      "[[ 66.   0.   0.   0.]\n",
      " [  0.   3.   0.   0.]\n",
      " [  0.   0.   9.   0.]\n",
      " [  0.   0.   0.  18.]]\n",
      "[[  8.   0.   0.   0.]\n",
      " [  0.   3.   0.   0.]\n",
      " [  0.   0.   9.   0.]\n",
      " [  0.   0.   0.  18.]]\n"
     ]
    }
   ],
   "source": [
    "M = np.array([[1,2],[3,4]])\n",
    "Minv = np.array([[27,1],[16,14]])\n",
    "\n",
    "print(np.dot(M, Minv))\n",
    "print(np.dot(M, Minv) % 29)\n",
    "\n",
    "identity = np.eye(4)\n",
    "A = np.zeros([4,4])\n",
    "A[0,0] = 22\n",
    "A[1,1] = 1\n",
    "A[2,2] = 3\n",
    "A[3,3] = 6\n",
    "print(A)\n",
    "print(A + A + A)\n",
    "print((A+A+A) % 29)"
   ]
  },
  {
   "cell_type": "markdown",
   "metadata": {},
   "source": [
    "<a id=\"hill_cipher\"></a>\n",
    "Hill Cipher method\n",
    "------------------\n",
    "\n",
    "To refresh your memory, the method of the Hill Cipher is quite simple:\n",
    "\n",
    " 1. Pick an alphabet of length $m$ and pick a matrix $M$ of size $n \\times n$ that is invertible in $\\mathbb{Z}_m$;\n",
    " 2. Divide your message into groups of $n$ characters and map each character to a unique integer in $\\mathbb{Z}_m$;\n",
    " 3. Multiply each group of $n$ numerical values by your matrix $M$, obtaining a new set of $n$ numbers;\n",
    " 4. Map all those numbers back to characters and put everything together again."
   ]
  },
  {
   "cell_type": "markdown",
   "metadata": {},
   "source": [
    "<a id=\"alphabet\"></a>\n",
    "### Alphabet"
   ]
  },
  {
   "cell_type": "markdown",
   "metadata": {},
   "source": [
    "To pick an alphabet, one must take into account the type of messages we will be encoding, but it is also good to pay attention to something else: the size of the alphabet is the integer $m$ that will dictate in which $\\mathbb{Z}_m$ we are working. If $m$ is a number with plenty of factors, then we will have a very hard time finding matrices $M$ that are invertible in $\\mathbb{Z}_m$. To make our lifes easier, it is nice to consider an alphabet of prime length.\n",
    "\n",
    "The usual alphabet has $26$ letters which is $3$ short of the prime number $29$; we can get there by adding the space, the comma and the period, for example. If we wanted, we could also take the exclamation and interrogation marks, to get an alphabet of length $31$ (also prime). We define the alphabet below."
   ]
  },
  {
   "cell_type": "code",
   "execution_count": 134,
   "metadata": {},
   "outputs": [
    {
     "name": "stdout",
     "output_type": "stream",
     "text": [
      "31\n"
     ]
    }
   ],
   "source": [
    "ALPHABET = \" abcdefghijklmnopqrstuvwxyz,.!?\"\n",
    "mod = len(ALPHABET)\n",
    "print(mod)"
   ]
  },
  {
   "cell_type": "markdown",
   "metadata": {},
   "source": [
    "<a id=\"strings_vectors\"></a>\n",
    "### Strings <-> numerical vectors"
   ]
  },
  {
   "cell_type": "markdown",
   "metadata": {},
   "source": [
    "When we have a message `msg` to encrypt, we want to be able to turn all the characters in the string into unique numbers in $\\mathbb{Z}_{31}$. A bit later we will also want to do the same thing the other way around, so I will just implement those two functions now."
   ]
  },
  {
   "cell_type": "code",
   "execution_count": 135,
   "metadata": {
    "collapsed": true
   },
   "outputs": [],
   "source": [
    "lettermap = {ALPHABET[i]: i for i in range(mod)}\n",
    "def aton(char: str) -> int:\n",
    "    return lettermap[char]\n",
    "\n",
    "def ntoa(n: int) -> str:\n",
    "    return ALPHABET[n]"
   ]
  },
  {
   "cell_type": "markdown",
   "metadata": {},
   "source": [
    "The two functions `aton` and `ntoa` above turn a single character into a number and a number into a single character, respectively. Notice that both functions assume that our request makes sense, so it will be up to us to be careful and only work with the right characters and numbers. For example, `aton('#')` gives an error:"
   ]
  },
  {
   "cell_type": "code",
   "execution_count": 136,
   "metadata": {},
   "outputs": [
    {
     "ename": "KeyError",
     "evalue": "'#'",
     "output_type": "error",
     "traceback": [
      "\u001b[0;31m---------------------------------------------------------------------------\u001b[0m",
      "\u001b[0;31mKeyError\u001b[0m                                  Traceback (most recent call last)",
      "\u001b[0;32m<ipython-input-136-cae6eb9b6bee>\u001b[0m in \u001b[0;36m<module>\u001b[0;34m()\u001b[0m\n\u001b[0;32m----> 1\u001b[0;31m \u001b[0maton\u001b[0m\u001b[1;33m(\u001b[0m\u001b[1;34m'#'\u001b[0m\u001b[1;33m)\u001b[0m\u001b[1;33m\u001b[0m\u001b[0m\n\u001b[0m",
      "\u001b[0;32m<ipython-input-135-8f9d7809b0e9>\u001b[0m in \u001b[0;36maton\u001b[0;34m(char)\u001b[0m\n\u001b[1;32m      1\u001b[0m \u001b[0mlettermap\u001b[0m \u001b[1;33m=\u001b[0m \u001b[1;33m{\u001b[0m\u001b[0mALPHABET\u001b[0m\u001b[1;33m[\u001b[0m\u001b[0mi\u001b[0m\u001b[1;33m]\u001b[0m\u001b[1;33m:\u001b[0m \u001b[0mi\u001b[0m \u001b[1;32mfor\u001b[0m \u001b[0mi\u001b[0m \u001b[1;32min\u001b[0m \u001b[0mrange\u001b[0m\u001b[1;33m(\u001b[0m\u001b[0mmod\u001b[0m\u001b[1;33m)\u001b[0m\u001b[1;33m}\u001b[0m\u001b[1;33m\u001b[0m\u001b[0m\n\u001b[1;32m      2\u001b[0m \u001b[1;32mdef\u001b[0m \u001b[0maton\u001b[0m\u001b[1;33m(\u001b[0m\u001b[0mchar\u001b[0m\u001b[1;33m:\u001b[0m \u001b[0mstr\u001b[0m\u001b[1;33m)\u001b[0m \u001b[1;33m->\u001b[0m \u001b[0mint\u001b[0m\u001b[1;33m:\u001b[0m\u001b[1;33m\u001b[0m\u001b[0m\n\u001b[0;32m----> 3\u001b[0;31m     \u001b[1;32mreturn\u001b[0m \u001b[0mlettermap\u001b[0m\u001b[1;33m[\u001b[0m\u001b[0mchar\u001b[0m\u001b[1;33m]\u001b[0m\u001b[1;33m\u001b[0m\u001b[0m\n\u001b[0m\u001b[1;32m      4\u001b[0m \u001b[1;33m\u001b[0m\u001b[0m\n\u001b[1;32m      5\u001b[0m \u001b[1;32mdef\u001b[0m \u001b[0mntoa\u001b[0m\u001b[1;33m(\u001b[0m\u001b[0mn\u001b[0m\u001b[1;33m:\u001b[0m \u001b[0mint\u001b[0m\u001b[1;33m)\u001b[0m \u001b[1;33m->\u001b[0m \u001b[0mstr\u001b[0m\u001b[1;33m:\u001b[0m\u001b[1;33m\u001b[0m\u001b[0m\n",
      "\u001b[0;31mKeyError\u001b[0m: '#'"
     ]
    }
   ],
   "source": [
    "aton('#')"
   ]
  },
  {
   "cell_type": "markdown",
   "metadata": {},
   "source": [
    "When encoding and decoding we will want to work with whole strings and lists of numbers so we will also get two functions to convert whole strings into lists of numbers and vice-versa."
   ]
  },
  {
   "cell_type": "code",
   "execution_count": 137,
   "metadata": {
    "collapsed": true
   },
   "outputs": [],
   "source": [
    "def strtovec(string: str) -> list:\n",
    "    return list(map(aton, string[::]))\n",
    "\n",
    "def vectostr(vector: list) -> str:\n",
    "    return \"\".join(list(map(ntoa, vector)))"
   ]
  },
  {
   "cell_type": "code",
   "execution_count": 138,
   "metadata": {},
   "outputs": [
    {
     "data": {
      "text/plain": [
       "[8, 5, 12, 12, 15, 0, 23, 15, 18, 12, 4, 29]"
      ]
     },
     "execution_count": 138,
     "metadata": {},
     "output_type": "execute_result"
    }
   ],
   "source": [
    "strtovec(\"hello world!\")"
   ]
  },
  {
   "cell_type": "code",
   "execution_count": 139,
   "metadata": {},
   "outputs": [
    {
     "data": {
      "text/plain": [
       "'hello world!'"
      ]
     },
     "execution_count": 139,
     "metadata": {},
     "output_type": "execute_result"
    }
   ],
   "source": [
    "vectostr(strtovec(\"hello world!\"))"
   ]
  },
  {
   "cell_type": "markdown",
   "metadata": {},
   "source": [
    "<a id=\"#encoding\"></a>\n",
    "### Encoding"
   ]
  },
  {
   "cell_type": "markdown",
   "metadata": {},
   "source": [
    "At this point we need to pick our $N$ that will define the size of the matrix. For simplicity we will pick $N = 2$, so we need a $2 \\times 2$ matrix for $M$. Let us pick the key \"cake\" and let us be sure that it gives a valid matrix."
   ]
  },
  {
   "cell_type": "code",
   "execution_count": 140,
   "metadata": {},
   "outputs": [
    {
     "data": {
      "text/plain": [
       "[3, 1, 11, 5]"
      ]
     },
     "execution_count": 140,
     "metadata": {},
     "output_type": "execute_result"
    }
   ],
   "source": [
    "strtovec(\"cake\")"
   ]
  },
  {
   "cell_type": "code",
   "execution_count": 141,
   "metadata": {},
   "outputs": [
    {
     "name": "stdout",
     "output_type": "stream",
     "text": [
      "[[ 3  1]\n",
      " [11  5]]\n"
     ]
    }
   ],
   "source": [
    "M = np.array([[3, 1], [11, 5]])\n",
    "print(M)"
   ]
  },
  {
   "cell_type": "markdown",
   "metadata": {},
   "source": [
    "Now we need to ensure this matrix is invertible in $\\mathbb{Z}_{31}$ which will be the case if the determinant of $M$ is not congruent to $0 \\mod{31}$.\n",
    "\n",
    "Computing determinants of $2\\times 2$ matrices is fairly easy but we will be dealing with bigger matrices latter on, so we will just define a helper function."
   ]
  },
  {
   "cell_type": "code",
   "execution_count": 142,
   "metadata": {},
   "outputs": [
    {
     "name": "stdout",
     "output_type": "stream",
     "text": [
      "4\n"
     ]
    }
   ],
   "source": [
    "def detmod(matrix: np.ndarray, mod: int) -> int:\n",
    "    return int(np.linalg.det(matrix)) % mod\n",
    "\n",
    "print(detmod(M, mod))"
   ]
  },
  {
   "cell_type": "markdown",
   "metadata": {},
   "source": [
    "The final step to encoding is splitting the vector into bits of size $N$ and then multiplying by the matrix $M$. Say we had a string that was converted to the vector $(a_1, a_2, a_3, a_4, a_5, a_6)$; the next step is getting the vectors $v_1 = [a_1, a_2]^T$, $v_2 = [a_3, a_4]^T$ and $v_3 = [a_5, a_6]^T$ and computing $Mv_1$, $Mv_2$ and $Mv_3$. Because of the way matrices work, it is easier if we build a bigger matrix $V$ whose columns are the vectors $v_i$, and then compute $MV$.\n",
    "\n",
    "$$V = \\begin{bmatrix}v_1 & v_2 & v_3 \\end{bmatrix} = \\begin{bmatrix}a_1 & a_3 & a_5 \\\\ a_2 & a_4 & a_6 \\end{bmatrix}$$\n",
    "\n",
    "After computing that product, we finish it up by converting the numbers to letters and building the final matrix. Below we create a function that turns the list into a matrix and then, with that, we create a function that encrypts a string by using everything that we have built so far."
   ]
  },
  {
   "cell_type": "code",
   "execution_count": 143,
   "metadata": {},
   "outputs": [
    {
     "name": "stdout",
     "output_type": "stream",
     "text": [
      "[8, 5, 12, 12, 15, 29]\n",
      "[[ 8 12 15]\n",
      " [ 5 12 29]]\n",
      "[13, 25, 0, 14, 1, 13, 5, 0, 9, 19, 0, 18, 15, 2]\n",
      "[[13  0  1  5  9  0 15]\n",
      " [25 14 13  0 19 18  2]]\n",
      "True\n"
     ]
    }
   ],
   "source": [
    "def vectomat(vector: list, N: int) -> np.ndarray:\n",
    "    return np.array([[vector[N*i+j] for i in range(int(len(vector)/N))] for j in range(N)])\n",
    "\n",
    "def mattovec(matrix: np.ndarray) -> list:\n",
    "    length = matrix.size\n",
    "    l = matrix.T.reshape([1, length]).tolist()\n",
    "    return l[0]\n",
    "\n",
    "print(strtovec(\"hello!\"))\n",
    "test1 = vectomat(strtovec(\"hello!\"), 2)\n",
    "print(test1)\n",
    "print(strtovec(\"my name is rob\"))\n",
    "test2 = vectomat(strtovec(\"my name is rob\"), 2)\n",
    "print(test2)\n",
    "print(mattovec(test2) == strtovec(\"my name is rob\"))"
   ]
  },
  {
   "cell_type": "code",
   "execution_count": 144,
   "metadata": {},
   "outputs": [
    {
     "name": "stdout",
     "output_type": "stream",
     "text": [
      "!tqfnjziagziyi\n",
      "floxbqjpt!xfzwe,butg!tl!!qm,,zr \n"
     ]
    }
   ],
   "source": [
    "def encrypt(msg: str, key_matrix: np.ndarray) -> str:\n",
    "    # starting by finding the size of the matrix\n",
    "    N = M.shape[0]\n",
    "    # ensure the length of the message is a multiple of N\n",
    "    while len(msg) % N:\n",
    "        msg += \" \"\n",
    "    # ensure only lower-case characters\n",
    "    msg = msg.lower()\n",
    "    matrix = vectomat(strtovec(msg), N)\n",
    "    # below we CANNOT forget to take the matrix multiplication\n",
    "    # in Z_m, i.e. we must use the % after multiplying\n",
    "    encrypted = vectostr(mattovec(np.dot(key_matrix, matrix)%mod))\n",
    "    return encrypted\n",
    "    \n",
    "print(encrypt(\"hello george!\", M))\n",
    "print(encrypt(\"the fox jumps over the lazy dog.\", M))"
   ]
  },
  {
   "cell_type": "markdown",
   "metadata": {},
   "source": [
    "<a id=\"key_matrix\"></a>\n",
    "### Inverting the key matrix and decoding"
   ]
  },
  {
   "cell_type": "markdown",
   "metadata": {},
   "source": [
    "When we get an encrypted message, to decrypt it we just need to invert the key matrix and repeat the process that we go through when encoding. That is, we could define the function `decrypt` as `decrypt(msg, key_matrix): encrypt(msg, inverse(key_matrix))`. This means we only need to know how to invert matrices! In the cell below I implement Gauss-Jordan elimination to do this, which you can read about in [here](https://www.mathportal.org/linear-algebra/matrices/gauss-jordan.php), for example."
   ]
  },
  {
   "cell_type": "code",
   "execution_count": 145,
   "metadata": {},
   "outputs": [
    {
     "name": "stdout",
     "output_type": "stream",
     "text": [
      "[[1 0 0]\n",
      " [0 1 0]\n",
      " [0 0 1]]\n",
      "[[1 0]\n",
      " [0 1]]\n"
     ]
    }
   ],
   "source": [
    "def matrix_inversemod(matrix: np.ndarray, mod: int) -> np.ndarray:\n",
    "    # use gauss-jordan to inverse the matrix\n",
    "    # first use gauss to get an upper triangular matrix\n",
    "    if matrix.ndim != 2:\n",
    "        raise TypeError(f\"Cannot invert tensor of rank {matrix.ndim}\")\n",
    "    elif matrix.shape[0] != matrix.shape[1]:\n",
    "        raise TypeError(f\"Cannot invert a non-square matrix\")\n",
    "    elif abs(detmod(matrix, mod)) < 0.00001:\n",
    "        raise ValueError(f\"Cannot invert a singular matrix\")\n",
    "    matrix = np.copy(matrix)\n",
    "    size = matrix.shape[0]\n",
    "    inverse = np.eye(size, dtype=int)\n",
    "    matrix %= mod\n",
    "    # start with Gaussian elimination, get upper triangular matrix\n",
    "    # fix a column\n",
    "    for col in range(0, size):\n",
    "        # find a row that has a non-zero col-th element\n",
    "        # this for always breaks because this row always exists\n",
    "        for i in range(col, size):\n",
    "            if matrix[i, col] != 0:\n",
    "                break\n",
    "        # swap the rows\n",
    "        if i != col:\n",
    "            matrix[[col, i], :] = matrix[[i, col], :]\n",
    "            inverse[[col, i], :] = inverse[[i, col], :]\n",
    "        # put a 1 in the position (col, col)\n",
    "        inv = inversemod(matrix[col, col], mod)\n",
    "        matrix[col, :] = inv*matrix[col, :] % mod\n",
    "        inverse[col, :] = inv*inverse[col, :] % mod\n",
    "        for row in range(col+1, size):\n",
    "            piv = matrix[row, col]\n",
    "            matrix[row, :] = (matrix[row, :] - piv*matrix[col, :]) % mod\n",
    "            inverse[row, :] = (inverse[row, :] - piv*inverse[col, :]) % mod\n",
    "    # now off to the Jordan part, get just a diagonal matrix\n",
    "    # fix a column (right to left) and work from bottom to top\n",
    "    for col in range(size-1, -1, -1):\n",
    "        for row in range(col-1, -1, -1):\n",
    "            piv = matrix[row, col]\n",
    "            matrix[row, :] = (matrix[row, :] - piv*matrix[col, :]) % mod\n",
    "            inverse[row, :] = (inverse[row, :] - piv*inverse[col, :]) % mod\n",
    "    \n",
    "    return inverse\n",
    "\n",
    "M1 = np.array([[1,2,3],[3,2,1],[2,1,3]]) # some invertible matrix\n",
    "print(np.dot(M1, matrix_inversemod(M1, mod))%mod)\n",
    "print(np.dot(M, matrix_inversemod(M, mod))%mod)"
   ]
  },
  {
   "cell_type": "markdown",
   "metadata": {},
   "source": [
    "With this function implemented, decoding messages becomes trivial!"
   ]
  },
  {
   "cell_type": "code",
   "execution_count": 146,
   "metadata": {},
   "outputs": [
    {
     "name": "stdout",
     "output_type": "stream",
     "text": [
      "the quick brown fox jumps over the lazy dog..?\n"
     ]
    }
   ],
   "source": [
    "def decrypt(msg: str, key_matrix: np.ndarray) -> str:\n",
    "    return encrypt(msg, matrix_inversemod(key_matrix, mod))\n",
    "\n",
    "encrypted = encrypt(\"the quick brown fox jumps over the lazy dog..?\", M)\n",
    "decrypted = decrypt(encrypted, M)\n",
    "print(decrypted)"
   ]
  },
  {
   "cell_type": "markdown",
   "metadata": {},
   "source": [
    "<a id=\"extras\"></a>\n",
    "### Extras"
   ]
  },
  {
   "cell_type": "markdown",
   "metadata": {},
   "source": [
    "For the sake of whomever reads this and wants to experiment, I will just add another function that generates a random matrix that is invertible in a given modulo:"
   ]
  },
  {
   "cell_type": "code",
   "execution_count": 147,
   "metadata": {},
   "outputs": [
    {
     "name": "stdout",
     "output_type": "stream",
     "text": [
      "[[13 24]\n",
      " [15 27]]\n",
      "[[ 5 21 24 22  1]\n",
      " [20 27  4 16  2]\n",
      " [27 29  8 15 11]\n",
      " [ 4  4  1 17 19]\n",
      " [21 22  7 17 15]]\n"
     ]
    }
   ],
   "source": [
    "def random_invertible(dim: int, mod: int) -> np.ndarray:\n",
    "    d = 0\n",
    "    while not d:\n",
    "        matrix = np.random.randint(0, mod, size=(dim,dim))\n",
    "        d = detmod(matrix, mod)\n",
    "    return matrix\n",
    "\n",
    "print(random_invertible(2, mod))\n",
    "print(random_invertible(5, mod))"
   ]
  },
  {
   "cell_type": "markdown",
   "metadata": {},
   "source": [
    "And two functions, one that turns words into key matrices and another one to do the reverse."
   ]
  },
  {
   "cell_type": "code",
   "execution_count": 148,
   "metadata": {},
   "outputs": [
    {
     "name": "stdout",
     "output_type": "stream",
     "text": [
      "[[ 3  1]\n",
      " [11  5]]\n",
      "cake\n"
     ]
    }
   ],
   "source": [
    "from math import sqrt\n",
    "def word_to_key(word: str) -> np.ndarray:\n",
    "    vec = strtovec(word)\n",
    "    N = int(sqrt(len(vec)))\n",
    "    return np.array(vec).reshape((N,N))\n",
    "\n",
    "def key_to_word(matrix: np.ndarray) -> str:\n",
    "    vec = matrix.reshape((1, matrix.size)).tolist()\n",
    "    return \"\".join(vectostr(vec[0]))\n",
    "\n",
    "print(word_to_key(\"cake\"))\n",
    "print(key_to_word(M))"
   ]
  },
  {
   "cell_type": "markdown",
   "metadata": {},
   "source": [
    "<a id=\"hacking\"></a>\n",
    "Breaking the cipher\n",
    "---------------------"
   ]
  },
  {
   "cell_type": "markdown",
   "metadata": {},
   "source": [
    "Just because it is fun I will also include a small section on breaking the Hill Cipher. Because the way we encrypt messages is linear, the Hill Cipher is weak against plaintext attacks. This means that whenever we have an encrypted message and part of the original message, we can build a linear system and, by solving it, recover the key matrix!\n",
    "\n",
    "Suppose we had the encrypted message '_qzj!xvutvhvwvv.m,dqij kggkuj..twualt.nsuwknv'_ that we happen to know that starts with '_the _'. We know that '_the _' $ \\mapsto [20, 8, 5, 0]$ and that '_qzj!_' $ \\mapsto [17, 26, 10, 29]$. Assuming the key matrix $M$ is a $2 \\times 2$ matrix, we have that\n",
    "\n",
    "$$M\\begin{bmatrix} 20 \\\\ 8 \\end{bmatrix} = \\begin{bmatrix} 17 \\\\ 26 \\end{bmatrix}$$\n",
    "\n",
    "and that\n",
    "\n",
    "$$M \\begin{bmatrix} 5 \\\\ 0 \\end{bmatrix} = \\begin{bmatrix} 10 \\\\ 29 \\end{bmatrix}$$\n",
    "\n",
    "If we write the matrix $M$ explicitly in terms of its components,\n",
    "\n",
    "$$M = \\begin{bmatrix} a & b \\\\ c & d \\end{bmatrix}$$\n",
    "\n",
    "we can build the linear system\n",
    "\n",
    "$$\\begin{cases}\n",
    "20a + 8b = 17 \\\\\n",
    "20c + 8d = 26 \\\\\n",
    "5a + 0b = 10 \\\\\n",
    "5c + 0d = 29\n",
    "\\end{cases} \\mod{m}$$\n",
    "\n",
    "which, in turn, can be written as\n",
    "\n",
    "$$\\hat{M}\\cdot x = \\begin{bmatrix}\n",
    "20 & 8 & 0 & 0 \\\\\n",
    "0 & 0 & 20 & 8 \\\\\n",
    "5 & 0 & 0 & 0 \\\\\n",
    "0 & 0 & 5 & 0\n",
    "\\end{bmatrix}\\cdot\\begin{bmatrix} a \\\\ b \\\\ c \\\\ d \\end{bmatrix} = \\begin{bmatrix} 17 \\\\ 26 \\\\ 10 \\\\ 29\\end{bmatrix} \\mod{m}$$\n",
    "\n",
    "If it happens that $\\det\\hat{M} \\equiv 0 \\mod{m}$, then we were unlucky and the correspondences we already have aren't enough. On the other hand, if the determinant of $\\hat{M}$ isn't $0 \\mod {m}$, we can invert $\\hat{M}$, solve the linear system and then build $M$:\n",
    "\n",
    "$$\\hat{M} \\cdot x = \\begin{bmatrix} 17 \\\\ 26 \\\\ 10 \\\\ 29 \\end{bmatrix} \\iff x = \\hat{M}^{-1}\\cdot \\begin{bmatrix}17 \\\\ 26 \\\\ 10 \\\\ 29 \\end{bmatrix}$$"
   ]
  },
  {
   "cell_type": "code",
   "execution_count": 149,
   "metadata": {},
   "outputs": [
    {
     "name": "stdout",
     "output_type": "stream",
     "text": [
      "13\n",
      "[[ 2  1]\n",
      " [12 12]]\n",
      "ball\n",
      "the quick brown fox jumps over the lazy dog \n"
     ]
    }
   ],
   "source": [
    "bigmatrix = np.array([[20, 8, 0, 0],\n",
    "                        [0, 0, 20, 8],\n",
    "                        [5, 0, 0, 0],\n",
    "                        [0, 0, 5, 0]])\n",
    "# check this is NOT equivalent to 0, i.e. bigmatrix is invertible\n",
    "print(detmod(bigmatrix, mod))\n",
    "\n",
    "vector = np.array([[17],[26],[10],[29]])\n",
    "inverse = matrix_inversemod(bigmatrix, mod)\n",
    "\n",
    "x = np.dot(inverse, vector)%mod\n",
    "\n",
    "key_matrix = x.reshape((2,2))\n",
    "print(key_matrix)\n",
    "print(key_to_word(key_matrix))\n",
    "\n",
    "# and now we decrypt the rest of the message\n",
    "print(decrypt(\"qzj!xvutvhvwvv.m,dqij kggkuj..twualt.nsuwknv\", key_matrix))"
   ]
  },
  {
   "cell_type": "markdown",
   "metadata": {},
   "source": [
    "Please notice that we assumed the key matrix was a $2 \\times 2$ matrix just to make this simpler. The key matrix could be bigger and this method would still work. If the key matrix is $N \\times N$, generally we need $N$ known correspondences to be able to build the $\\hat{M}$ matrix and solve it for the components of $M$. If we are unlucky, we may need more than $N$ correspondences.\n",
    "\n",
    "For those of you who are interested, I suggest that you build a function that does precisely what I just did in the cell above."
   ]
  },
  {
   "cell_type": "markdown",
   "metadata": {},
   "source": [
    "<a id=\"allcode\"></a>\n",
    "All the code\n",
    "-------------\n",
    "\n",
    "Below I will put everything together into a simple class `HillCipher`. This class will take the alphabet as initial argument and then it will have the methods needed to encrypt and decrypt messages, get invertible matrices to use as keys, etc. In the end a small usage example is provided. The cell below can be copied into a `.py` file, making the class accessible for future usage in your projects!"
   ]
  },
  {
   "cell_type": "code",
   "execution_count": 150,
   "metadata": {},
   "outputs": [
    {
     "name": "stdout",
     "output_type": "stream",
     "text": [
      "The key word 'golf' is a valid key matrix: True\n",
      "the encrypted message reads:\n",
      "\t'.lvkyfrvligez!ogjqzmxvbucjtvohucikplgt?lm ipjrzm.h!htu,ok nrepnmixqxqg'\n",
      "we know the values [23, 18, 9, 20] have to be mapped to [28, 12, 22, 11]\n",
      "the big matrix has determinant 11\n",
      "after solving the system, we got the following key word: golf\n",
      "the decrypted message reads:\n",
      "\t'writing this jupyter notebook was fun, but moderately time consuming! '\n"
     ]
    }
   ],
   "source": [
    "import numpy as np\n",
    "from math import sqrt\n",
    "\n",
    "class HillCipher(object):\n",
    "    \"\"\"This class will provide an interface for encrypting and decrypting\n",
    "    messages through the Hill Cipher, a cipher that uses modular arithmetic\n",
    "    and linear algebra to work\"\"\"\n",
    "    def __init__(self, alphabet: str):\n",
    "        # this isn't supposed to be changed throughout code execution\n",
    "        self._alphabet = alphabet\n",
    "        self._mod = len(self._alphabet)\n",
    "        # build an auxiliar dictionary to make the ntoa function faster\n",
    "        self._lettermap = {self._alphabet[i]: i for i in range(self._mod)}\n",
    "        \n",
    "    def aton(self, char: str) -> int:\n",
    "        \"\"\"Returns the numerical representation of char in the\n",
    "        current alphabet; if the character doesn't exist, an\n",
    "        error is thrown.\"\"\"\n",
    "        return self._lettermap[char]\n",
    "    \n",
    "    def ntoa(self, n: int) -> str:\n",
    "        \"\"\"Returns the character that is associated with the given\n",
    "        integer in Z_{mod}. If the integer falls outside the legal\n",
    "        range, an error is thrown.\"\"\"\n",
    "        return self._alphabet[n]\n",
    "    \n",
    "    def strtovec(self, string: str) -> list:\n",
    "        \"\"\"Turns a string into the corresponding list of integers\"\"\"\n",
    "        return list(map(self.aton, string[::]))\n",
    "    \n",
    "    def vectostr(self, vector:list) -> str:\n",
    "        \"\"\"Turns a list of integers into the corresponding string\"\"\"\n",
    "        return \"\".join(list(map(self.ntoa, vector)))\n",
    "\n",
    "    def vectomat(self, vector:list, N: int) -> np.ndarray:\n",
    "        \"\"\"Auxiliar function that turns the numerical vector into a nicer\n",
    "        representation for encoding/decoding\"\"\"\n",
    "        return np.array([[vector[N*i+j] \n",
    "                          for i in range(int(len(vector)/N))] \n",
    "                             for j in range(N)])\n",
    "    \n",
    "    def mattovec(self, matrix: np.ndarray) -> list:\n",
    "        \"\"\"Auxiliar function that turns the matrix back into a \n",
    "        numerical vector\"\"\"\n",
    "        length = matrix.size\n",
    "        l = matrix.T.reshape([1, length]).tolist()\n",
    "        return l[0]\n",
    "    \n",
    "    def is_valid(self, matrix: np.ndarray) -> bool:\n",
    "        \"\"\"Returns True if the matrix is a valid key matrix for the\n",
    "        given alphabet; i.e. if it is invertible modulo the length of\n",
    "        the internal alphabet\"\"\"\n",
    "        return HillCipher.detmod(matrix, self._mod) != 0\n",
    "    \n",
    "    def encrypt(self, msg: str, key_matrix: np.ndarray) -> str:\n",
    "        \"\"\"encrypts the given message with the given key matrix\"\"\"\n",
    "        # start by finding the size of the matrix\n",
    "        N = key_matrix.shape[0]\n",
    "        # ensure the length of the message is a multiple of N\n",
    "        while len(msg) % N:\n",
    "            msg += \" \"\n",
    "        # ensure only lower-case characters\n",
    "        msg = msg.lower()\n",
    "        matrix = self.vectomat(strtovec(msg), N)\n",
    "        # below we CANNOT forget to take the matrix multiplication\n",
    "        # in Z_m, i.e. we must use the % after multiplying\n",
    "        encrypted = self.vectostr(self.mattovec(np.dot(key_matrix, matrix)%self._mod))\n",
    "        return encrypted\n",
    "    \n",
    "    def decrypt(self, msg: str, key_matrix: np.ndarray) -> str:\n",
    "        \"\"\"decrypts the given message that was encrypted with the given matrix\"\"\"\n",
    "        return self.encrypt(msg, HillCipher.matrix_inversemod(key_matrix, mod))\n",
    "\n",
    "    def word_to_key(self, word: str) -> np.ndarray:\n",
    "        \"\"\"Returns the key matrix corresponding to the given word\"\"\"\n",
    "        vec = strtovec(word)\n",
    "        N = int(sqrt(len(vec)))\n",
    "        return np.array(vec).reshape((N,N))\n",
    "\n",
    "    def key_to_word(self, matrix: np.ndarray) -> str:\n",
    "        \"\"\"Converts a key matrix into a word\"\"\"\n",
    "        vec = matrix.reshape((1, matrix.size)).tolist()\n",
    "        return \"\".join(self.vectostr(vec[0]))\n",
    "    \n",
    "    ### Auxiliar functions that deal with modular arithmetic\n",
    "    def detmod(matrix: np.ndarray, mod: int) -> int:\n",
    "        \"\"\"Returns the determinant of the matrix in the given Z_{mod}\"\"\"\n",
    "        return int(np.linalg.det(matrix)) % mod\n",
    "        \n",
    "    def inversemod(n: int, mod: int) -> int:\n",
    "        \"\"\"Finds the multiplicative inverse of n in Z_{mod}.\n",
    "        When such inverse doesn't exist, 0 is returned.\"\"\"\n",
    "        for i in range(1, mod+1):\n",
    "            if (n*i % mod) == 1:\n",
    "                return i\n",
    "        else:\n",
    "            return 0\n",
    "        \n",
    "    def random_invertible(dim: int, mod: int) -> np.ndarray:\n",
    "        \"\"\"Returns an invertible matrix in the given Z_{mod}\"\"\"\n",
    "        d = 0\n",
    "        while not d:\n",
    "            matrix = np.random.randint(0, mod, size=(dim,dim))\n",
    "            d = HillCipher.detmod(matrix, mod)\n",
    "        return matrix\n",
    "\n",
    "    def matrix_inversemod(matrix: np.ndarray, mod: int) -> np.ndarray:\n",
    "        \"\"\"Auxiliar function to inverse a function in the given Z_{mod}\"\"\"\n",
    "        # use gauss-jordan to inverse the matrix\n",
    "        # first use gauss to get an upper triangular matrix\n",
    "        if matrix.ndim != 2:\n",
    "            raise TypeError(f\"Cannot invert tensor of rank {matrix.ndim}\")\n",
    "        elif matrix.shape[0] != matrix.shape[1]:\n",
    "            raise TypeError(f\"Cannot invert a non-square matrix\")\n",
    "        elif abs(HillCipher.detmod(matrix, mod)) < 0.00001:\n",
    "            raise ValueError(f\"Cannot invert a singular matrix\")\n",
    "        matrix = np.copy(matrix)\n",
    "        size = matrix.shape[0]\n",
    "        inverse = np.eye(size, dtype=int)\n",
    "        matrix %= mod\n",
    "        # start with Gaussian elimination, get upper triangular matrix\n",
    "        # fix a column\n",
    "        for col in range(0, size):\n",
    "            # find a row that has a non-zero col-th element\n",
    "            # this for always breaks because this row always exists\n",
    "            for i in range(col, size):\n",
    "                if matrix[i, col] != 0:\n",
    "                    break\n",
    "            # swap the rows\n",
    "            if i != col:\n",
    "                matrix[[col, i], :] = matrix[[i, col], :]\n",
    "                inverse[[col, i], :] = inverse[[i, col], :]\n",
    "            # put a 1 in the position (col, col)\n",
    "            inv = HillCipher.inversemod(matrix[col, col], mod)\n",
    "            matrix[col, :] = inv*matrix[col, :] % mod\n",
    "            inverse[col, :] = inv*inverse[col, :] % mod\n",
    "            for row in range(col+1, size):\n",
    "                piv = matrix[row, col]\n",
    "                matrix[row, :] = (matrix[row, :] - piv*matrix[col, :]) % mod\n",
    "                inverse[row, :] = (inverse[row, :] - piv*inverse[col, :]) % mod\n",
    "        # now off to the Jordan part, get just a diagonal matrix\n",
    "        # fix a column (right to left) and work from bottom to top\n",
    "        for col in range(size-1, -1, -1):\n",
    "            for row in range(col-1, -1, -1):\n",
    "                piv = matrix[row, col]\n",
    "                matrix[row, :] = (matrix[row, :] - piv*matrix[col, :]) % mod\n",
    "                inverse[row, :] = (inverse[row, :] - piv*inverse[col, :]) % mod\n",
    "\n",
    "        return inverse\n",
    "    ### End of the modular arithmetic auxiliar functions\n",
    "    \n",
    "if __name__ == \"__main__\":\n",
    "    abc = \" abcdefghijklmnopqrstuvwxyz,.!?\"\n",
    "    hc = HillCipher(abc) # initialize the cipher\n",
    "    \n",
    "    # pick a key word, for example golf\n",
    "    key_word = \"golf\"\n",
    "    key_matrix = hc.word_to_key(key_word)\n",
    "    print(f\"The key word '{key_word}' is a valid key matrix: {hc.is_valid(key_matrix)}\")\n",
    "    \n",
    "    # pick a random message to encrypt\n",
    "    msg = \"writing this jupyter notebook was fun, but moderately time consuming!\"\n",
    "    # encrypt the message\n",
    "    encrypted = hc.encrypt(msg, key_matrix)\n",
    "    print(f\"the encrypted message reads:\\n\\t'{encrypted}'\")\n",
    "    \n",
    "    # now we demonstrate hacking the hill cipher\n",
    "    # assume we got the first 4 characters of the original message\n",
    "    first_four = msg[:4]\n",
    "    original4 = hc.strtovec(first_four)\n",
    "    encrypted4 = hc.strtovec(encrypted[:4])\n",
    "    print(f\"we know the values {original4} have to be mapped to {encrypted4}\")\n",
    "    # build the big matrix, M hat\n",
    "    Mhat = np.zeros((4, 4))\n",
    "    Mhat[0, [0,1]] = original4[0:2]\n",
    "    Mhat[1, [2,3]] = original4[0:2]\n",
    "    Mhat[2, [0,1]] = original4[2:4]\n",
    "    Mhat[3, [2,3]] = original4[2:4]\n",
    "    print(f\"the big matrix has determinant {HillCipher.detmod(Mhat, len(abc))}\")\n",
    "    \n",
    "    # the big matrix is invertible, so invert it!\n",
    "    x = np.dot(HillCipher.matrix_inversemod(Mhat, len(abc)), encrypted4)%len(abc)\n",
    "    original_key_matrix = x.reshape((2,2))\n",
    "    print(f\"after solving the system, we got the following key word: {hc.key_to_word(original_key_matrix)}\")\n",
    "    print(f\"the decrypted message reads:\\n\\t'{hc.decrypt(encrypted, original_key_matrix)}'\")"
   ]
  }
 ],
 "metadata": {
  "kernelspec": {
   "display_name": "Python 3",
   "language": "python",
   "name": "python3"
  },
  "language_info": {
   "codemirror_mode": {
    "name": "ipython",
    "version": 3
   },
   "file_extension": ".py",
   "mimetype": "text/x-python",
   "name": "python",
   "nbconvert_exporter": "python",
   "pygments_lexer": "ipython3",
   "version": "3.6.0"
  }
 },
 "nbformat": 4,
 "nbformat_minor": 2
}
