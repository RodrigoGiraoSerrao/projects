{
 "cells": [
  {
   "cell_type": "markdown",
   "id": "6033f94a",
   "metadata": {},
   "source": [
    "# Day 1"
   ]
  },
  {
   "cell_type": "code",
   "execution_count": 8,
   "id": "0d6dc10e",
   "metadata": {},
   "outputs": [],
   "source": [
    "from itertools import pairwise, tee\n",
    "from pathlib import Path\n",
    "\n",
    "INPUTS = Path(\"aoc2021_inputs\")\n",
    "\n",
    "# With lazy iterator:\n",
    "count = 0\n",
    "with open(INPUTS / \"day1.txt\", \"r\") as f:\n",
    "    for prev_, next_ in pairwise(map(int, f)):\n",
    "        count += next_ > prev_\n",
    "assert count == 1292\n",
    "\n",
    "def triplewise(it):\n",
    "    a, b, c = tee(it, 3)\n",
    "    next(b); next(c); next(c)\n",
    "    yield from zip(a, b, c)\n",
    "    \n",
    "def nwise(it, n):\n",
    "    its = tee(it, n)\n",
    "    for i, it in enumerate(its):\n",
    "        for _ in range(i):\n",
    "            next(it)\n",
    "    yield from zip(*its)\n",
    "    \n",
    "def triplewise_(it):\n",
    "    yield from nwise(it, 3)\n",
    "\n",
    "count = 0\n",
    "with open(INPUTS / \"day1.txt\", \"r\") as f:\n",
    "    sum_prev = float(\"+inf\")\n",
    "    for v1, v2, v3 in triplewise_(map(int, f)):\n",
    "        sum_ = v1 + v2 + v3\n",
    "        count += sum_ > sum_prev\n",
    "        sum_prev = sum_\n",
    "assert count == 1262"
   ]
  },
  {
   "cell_type": "markdown",
   "id": "a7588a0f",
   "metadata": {},
   "source": [
    "# Day 2"
   ]
  },
  {
   "cell_type": "code",
   "execution_count": 2,
   "id": "93c99a82",
   "metadata": {},
   "outputs": [
    {
     "name": "stdout",
     "output_type": "stream",
     "text": [
      "1905 907 1727835\n"
     ]
    }
   ],
   "source": [
    "from pathlib import Path\n",
    "\n",
    "INPUT_PATH = Path(\"aoc2021_inputs/day2.txt\")\n",
    "\n",
    "with open(INPUT_PATH, \"r\") as f:\n",
    "    moves = f.readlines()\n",
    "\n",
    "h, v = 0, 0\n",
    "for line in moves:\n",
    "    move, size = line.split()\n",
    "\n",
    "    if move == \"forward\":\n",
    "        h += int(size)\n",
    "    elif move == \"up\":\n",
    "        v -= int(size)\n",
    "    else:\n",
    "        v += int(size)\n",
    "        \n",
    "print(h, v, h * v)\n",
    "assert h * v == 1727835"
   ]
  },
  {
   "cell_type": "code",
   "execution_count": 3,
   "id": "bfc43ffb",
   "metadata": {},
   "outputs": [
    {
     "name": "stdout",
     "output_type": "stream",
     "text": [
      "1905 810499 907 1544000595\n"
     ]
    }
   ],
   "source": [
    "from pathlib import Path\n",
    "\n",
    "INPUT_PATH = Path(\"aoc2021_inputs/day2.txt\")\n",
    "\n",
    "with open(INPUT_PATH, \"r\") as f:\n",
    "    moves = f.readlines()\n",
    "    \n",
    "horiz, depth, aim = 0, 0, 0\n",
    "for line in moves:\n",
    "    move, size = line.split()\n",
    "    size = int(size)\n",
    "    \n",
    "    if move == \"forward\":\n",
    "        horiz += size\n",
    "        depth += size * aim\n",
    "    elif move == \"down\":\n",
    "        aim += size\n",
    "    else:\n",
    "        aim -= size\n",
    "        \n",
    "print(horiz, depth, aim, horiz * depth)"
   ]
  },
  {
   "cell_type": "code",
   "execution_count": null,
   "id": "42aecdf5",
   "metadata": {},
   "outputs": [],
   "source": []
  }
 ],
 "metadata": {
  "kernelspec": {
   "display_name": "Python 3 (ipykernel)",
   "language": "python",
   "name": "python3"
  },
  "language_info": {
   "codemirror_mode": {
    "name": "ipython",
    "version": 3
   },
   "file_extension": ".py",
   "mimetype": "text/x-python",
   "name": "python",
   "nbconvert_exporter": "python",
   "pygments_lexer": "ipython3",
   "version": "3.10.0"
  },
  "toc": {
   "base_numbering": 1,
   "nav_menu": {},
   "number_sections": false,
   "sideBar": true,
   "skip_h1_title": true,
   "title_cell": "Table of Contents",
   "title_sidebar": "Contents",
   "toc_cell": false,
   "toc_position": {},
   "toc_section_display": true,
   "toc_window_display": false
  }
 },
 "nbformat": 4,
 "nbformat_minor": 5
}
