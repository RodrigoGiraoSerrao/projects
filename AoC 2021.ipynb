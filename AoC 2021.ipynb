{
 "cells": [
  {
   "cell_type": "markdown",
   "id": "6033f94a",
   "metadata": {},
   "source": [
    "# Day 1"
   ]
  },
  {
   "cell_type": "code",
   "execution_count": 8,
   "id": "0d6dc10e",
   "metadata": {},
   "outputs": [],
   "source": [
    "from itertools import pairwise, tee\n",
    "from pathlib import Path\n",
    "\n",
    "INPUTS = Path(\"aoc2021_inputs\")\n",
    "\n",
    "# With lazy iterator:\n",
    "count = 0\n",
    "with open(INPUTS / \"day1.txt\", \"r\") as f:\n",
    "    for prev_, next_ in pairwise(map(int, f)):\n",
    "        count += next_ > prev_\n",
    "assert count == 1292\n",
    "\n",
    "def triplewise(it):\n",
    "    a, b, c = tee(it, 3)\n",
    "    next(b); next(c); next(c)\n",
    "    yield from zip(a, b, c)\n",
    "    \n",
    "def nwise(it, n):\n",
    "    its = tee(it, n)\n",
    "    for i, it in enumerate(its):\n",
    "        for _ in range(i):\n",
    "            next(it)\n",
    "    yield from zip(*its)\n",
    "    \n",
    "def triplewise_(it):\n",
    "    yield from nwise(it, 3)\n",
    "\n",
    "count = 0\n",
    "with open(INPUTS / \"day1.txt\", \"r\") as f:\n",
    "    sum_prev = float(\"+inf\")\n",
    "    for v1, v2, v3 in triplewise_(map(int, f)):\n",
    "        sum_ = v1 + v2 + v3\n",
    "        count += sum_ > sum_prev\n",
    "        sum_prev = sum_\n",
    "assert count == 1262"
   ]
  },
  {
   "cell_type": "markdown",
   "id": "a7588a0f",
   "metadata": {},
   "source": [
    "# Day 2"
   ]
  },
  {
   "cell_type": "code",
   "execution_count": 2,
   "id": "93c99a82",
   "metadata": {},
   "outputs": [
    {
     "name": "stdout",
     "output_type": "stream",
     "text": [
      "1905 907 1727835\n"
     ]
    }
   ],
   "source": [
    "from pathlib import Path\n",
    "\n",
    "INPUT_PATH = Path(\"aoc2021_inputs/day2.txt\")\n",
    "\n",
    "with open(INPUT_PATH, \"r\") as f:\n",
    "    moves = f.readlines()\n",
    "\n",
    "h, v = 0, 0\n",
    "for line in moves:\n",
    "    move, size = line.split()\n",
    "\n",
    "    if move == \"forward\":\n",
    "        h += int(size)\n",
    "    elif move == \"up\":\n",
    "        v -= int(size)\n",
    "    else:\n",
    "        v += int(size)\n",
    "        \n",
    "print(h, v, h * v)\n",
    "assert h * v == 1727835"
   ]
  },
  {
   "cell_type": "code",
   "execution_count": 3,
   "id": "bfc43ffb",
   "metadata": {},
   "outputs": [
    {
     "name": "stdout",
     "output_type": "stream",
     "text": [
      "1905 810499 907 1544000595\n"
     ]
    }
   ],
   "source": [
    "from pathlib import Path\n",
    "\n",
    "INPUT_PATH = Path(\"aoc2021_inputs/day2.txt\")\n",
    "\n",
    "with open(INPUT_PATH, \"r\") as f:\n",
    "    moves = f.readlines()\n",
    "    \n",
    "horiz, depth, aim = 0, 0, 0\n",
    "for line in moves:\n",
    "    move, size = line.split()\n",
    "    size = int(size)\n",
    "    \n",
    "    if move == \"forward\":\n",
    "        horiz += size\n",
    "        depth += size * aim\n",
    "    elif move == \"down\":\n",
    "        aim += size\n",
    "    else:\n",
    "        aim -= size\n",
    "        \n",
    "print(horiz, depth, aim, horiz * depth)"
   ]
  },
  {
   "cell_type": "markdown",
   "id": "550eab23",
   "metadata": {},
   "source": [
    "# Day 3"
   ]
  },
  {
   "cell_type": "code",
   "execution_count": 39,
   "id": "4c867cfa",
   "metadata": {},
   "outputs": [
    {
     "name": "stdout",
     "output_type": "stream",
     "text": [
      "749376\n",
      "3871\n",
      "613\n",
      "2372923\n"
     ]
    }
   ],
   "source": [
    "from collections import Counter\n",
    "from pathlib import Path\n",
    "\n",
    "INPUT_PATH = Path(\"aoc2021_inputs/day3.txt\")\n",
    "\n",
    "counter = Counter()\n",
    "with open(INPUT_PATH, \"r\") as f:\n",
    "    for line in f:\n",
    "        counter += Counter(enumerate(line.strip()))\n",
    "\n",
    "gamma, epsilon = 0, 0\n",
    "total_bits = len(counter) // 2\n",
    "for n in range(total_bits):\n",
    "    if counter[(n, \"1\")] > counter[(n, \"0\")]:\n",
    "        gamma |= 1 << (total_bits - n - 1)\n",
    "    else:\n",
    "        epsilon |= 1 << (total_bits - n - 1)\n",
    "print(gamma * epsilon)\n",
    "\n",
    "# --- part 2 ---\n",
    "\n",
    "with open(INPUT_PATH, \"r\") as f:\n",
    "    lines = f.readlines()\n",
    "\n",
    "under_consideration = lines\n",
    "prefix = \"\"\n",
    "while len(under_consideration) > 1:\n",
    "    c = Counter(line[:len(prefix) + 1] for line in under_consideration)\n",
    "    c[prefix + \"1\"] += 0.5  # Force ending in \"1\" to win in case of draw.\n",
    "    (prefix, count), = c.most_common(1)\n",
    "    under_consideration = [line for line in under_consideration if line.startswith(prefix)]\n",
    "oxygen = int(under_consideration[0], 2)\n",
    "print(oxygen)\n",
    "\n",
    "under_consideration = lines\n",
    "prefix = \"\"\n",
    "while len(under_consideration) > 1:\n",
    "    c = Counter(line[:len(prefix) + 1] for line in under_consideration)\n",
    "    c[prefix + \"0\"] -= 0.5  # Force ending in \"0\" to lose in case of draw\n",
    "    _, (prefix, count) = c.most_common(2)\n",
    "    under_consideration = [line for line in under_consideration if line.startswith(prefix)]\n",
    "co2 = int(under_consideration[0], 2)\n",
    "print(co2)\n",
    "\n",
    "print(oxygen * co2)"
   ]
  },
  {
   "cell_type": "markdown",
   "id": "ab6a16bd",
   "metadata": {},
   "source": [
    "# Day 4"
   ]
  },
  {
   "cell_type": "code",
   "execution_count": 3,
   "id": "e327861d",
   "metadata": {},
   "outputs": [
    {
     "name": "stdout",
     "output_type": "stream",
     "text": [
      "27027\n",
      "36975\n"
     ]
    }
   ],
   "source": [
    "from pathlib import Path\n",
    "\n",
    "INPUT_PATH = Path(\"aoc2021_inputs/day4.txt\")\n",
    "\n",
    "with open(INPUT_PATH, \"r\") as f:\n",
    "    nums = next(f).strip().split(\",\")  # Read order in which numbers are drawn.\n",
    "    data = f.read().strip()\n",
    "\n",
    "# Build dictionary storing the position of each number.\n",
    "num_pos = dict(zip(nums, range(len(nums))))\n",
    "\n",
    "# `boards` is a list of pairs (dirs, nums)\n",
    "# `dirs` contains a list of all the possible winning directions for a board;\n",
    "# `nums` is the set of all the numbers that show up in that board.\n",
    "boards = []\n",
    "for subdata in data.split(\"\\n\\n\"):\n",
    "    # Store the rows and columns in the same list.\n",
    "    directions = []\n",
    "    # Set to keep track of all the numbers the card contains.\n",
    "    numbers = set()\n",
    "    for row in subdata.split(\"\\n\"):\n",
    "        directions.append(row.split())\n",
    "        # Update the numbers with the ones of the current row.\n",
    "        numbers |= {*directions[-1]}\n",
    "    # Add columns to the directions list.\n",
    "    bs = len(directions)\n",
    "    directions += [\n",
    "        [directions[r][c] for r in range(bs)] for c in range(bs)\n",
    "    ]\n",
    "\n",
    "    boards.append((directions, numbers))\n",
    "\n",
    "# Go over each board and figure out when that board is done.\n",
    "done_at = [\n",
    "    min(max(num_pos[n] for n in dir_) for dir_ in dirs)\n",
    "    for dirs, _ in boards\n",
    "]\n",
    "\n",
    "def score_board(winning_move_idx):\n",
    "    _, board_nums = boards[done_at.index(winning_move_idx)]\n",
    "    unmarked_numbers = map(int, board_nums - set(nums[:winning_move_idx + 1]))\n",
    "    return sum(unmarked_numbers) * int(nums[winning_move_idx])\n",
    "\n",
    "print(score_board(min(done_at))) # part 1\n",
    "print(score_board(max(done_at))) # part 2"
   ]
  },
  {
   "cell_type": "markdown",
   "id": "60ed7a14",
   "metadata": {},
   "source": [
    "# Day 5"
   ]
  },
  {
   "cell_type": "code",
   "execution_count": 39,
   "id": "7d246906",
   "metadata": {},
   "outputs": [
    {
     "name": "stdout",
     "output_type": "stream",
     "text": [
      "7142\n",
      "20012\n"
     ]
    }
   ],
   "source": [
    "from collections import Counter\n",
    "from pathlib import Path\n",
    "\n",
    "INPUT_PATH = Path(\"aoc2021_inputs/day5.txt\")\n",
    "\n",
    "def parse_line(string):\n",
    "    return [list(map(int, point.split(\",\"))) for point in string.split(\" -> \")]\n",
    "\n",
    "def sign(x):\n",
    "    return (x > 0) - (x < 0)\n",
    "\n",
    "def generate_segment(left, right):\n",
    "    (xl, yl), (xr, yr) = left, right\n",
    "    delta = max(abs(xl - xr), abs(yl - yr))\n",
    "    dx, dy = sign(xr - xl), sign(yr - yl)\n",
    "    return [(xl + dx * d, yl + dy * d) for d in range(delta + 1)]\n",
    "\n",
    "with open(INPUT_PATH, \"r\") as f:\n",
    "    points = [parse_line(line.strip()) for line in f]\n",
    "\n",
    "counter = Counter()\n",
    "for left, right in points:\n",
    "    (xl, yl), (xr, yr) = left, right\n",
    "    if xl != xr and yl != yr:\n",
    "        continue\n",
    "    counter += Counter(generate_segment(left, right))\n",
    "\n",
    "print(sum(cnt > 1 for _, cnt in counter.items()))\n",
    "\n",
    "counter = Counter()\n",
    "for left, right in points:\n",
    "    counter += Counter(generate_segment(left, right))\n",
    "\n",
    "print(sum(cnt > 1 for _, cnt in counter.items()))"
   ]
  },
  {
   "cell_type": "code",
   "execution_count": 23,
   "id": "db2ff264",
   "metadata": {},
   "outputs": [
    {
     "data": {
      "text/plain": [
       "[(3, 4), (3, 5), (3, 6), (3, 7)]"
      ]
     },
     "execution_count": 23,
     "metadata": {},
     "output_type": "execute_result"
    }
   ],
   "source": [
    "generate_segment((3, 4), (3, 7))"
   ]
  },
  {
   "cell_type": "code",
   "execution_count": 24,
   "id": "f7aed4a6",
   "metadata": {},
   "outputs": [
    {
     "data": {
      "text/plain": [
       "[(3, 4), (4, 4), (5, 4), (6, 4), (7, 4)]"
      ]
     },
     "execution_count": 24,
     "metadata": {},
     "output_type": "execute_result"
    }
   ],
   "source": [
    "generate_segment((3, 4), (7, 4))"
   ]
  },
  {
   "cell_type": "code",
   "execution_count": 25,
   "id": "d5fd1204",
   "metadata": {},
   "outputs": [
    {
     "data": {
      "text/plain": [
       "[(3, 0), (3, 1), (3, 2), (3, 3), (3, 4)]"
      ]
     },
     "execution_count": 25,
     "metadata": {},
     "output_type": "execute_result"
    }
   ],
   "source": [
    "generate_segment((3, 4), (3, 0))"
   ]
  },
  {
   "cell_type": "code",
   "execution_count": 30,
   "id": "ee42ccde",
   "metadata": {},
   "outputs": [
    {
     "data": {
      "text/plain": [
       "Counter({(0, 4): 1,\n",
       "         (1, 4): 1,\n",
       "         (2, 4): 1,\n",
       "         (3, 4): 2,\n",
       "         (3, 0): 1,\n",
       "         (3, 1): 1,\n",
       "         (3, 2): 1,\n",
       "         (3, 3): 1})"
      ]
     },
     "execution_count": 30,
     "metadata": {},
     "output_type": "execute_result"
    }
   ],
   "source": [
    "Counter(generate_segment((3, 4), (0, 4))) + Counter(generate_segment((3, 4), (3, 0)))"
   ]
  },
  {
   "cell_type": "code",
   "execution_count": 33,
   "id": "a0cc55af",
   "metadata": {},
   "outputs": [],
   "source": [
    "acc = 0\n",
    "for pnt in set(counter):\n",
    "    if counter[pnt] > 1:\n",
    "        acc += 1"
   ]
  },
  {
   "cell_type": "code",
   "execution_count": 34,
   "id": "cbf97a2f",
   "metadata": {},
   "outputs": [
    {
     "data": {
      "text/plain": [
       "948565"
      ]
     },
     "execution_count": 34,
     "metadata": {},
     "output_type": "execute_result"
    }
   ],
   "source": [
    "acc"
   ]
  },
  {
   "cell_type": "code",
   "execution_count": null,
   "id": "2b516348",
   "metadata": {},
   "outputs": [],
   "source": []
  }
 ],
 "metadata": {
  "kernelspec": {
   "display_name": "Python 3 (ipykernel)",
   "language": "python",
   "name": "python3"
  },
  "language_info": {
   "codemirror_mode": {
    "name": "ipython",
    "version": 3
   },
   "file_extension": ".py",
   "mimetype": "text/x-python",
   "name": "python",
   "nbconvert_exporter": "python",
   "pygments_lexer": "ipython3",
   "version": "3.9.7"
  },
  "toc": {
   "base_numbering": 1,
   "nav_menu": {},
   "number_sections": false,
   "sideBar": true,
   "skip_h1_title": true,
   "title_cell": "Table of Contents",
   "title_sidebar": "Contents",
   "toc_cell": false,
   "toc_position": {},
   "toc_section_display": true,
   "toc_window_display": false
  }
 },
 "nbformat": 4,
 "nbformat_minor": 5
}
