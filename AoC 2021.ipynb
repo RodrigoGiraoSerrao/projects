{
 "cells": [
  {
   "cell_type": "markdown",
   "id": "6033f94a",
   "metadata": {},
   "source": [
    "# Day 1"
   ]
  },
  {
   "cell_type": "code",
   "execution_count": 8,
   "id": "0d6dc10e",
   "metadata": {},
   "outputs": [],
   "source": [
    "from itertools import pairwise, tee\n",
    "from pathlib import Path\n",
    "\n",
    "INPUTS = Path(\"aoc2021_inputs\")\n",
    "\n",
    "# With lazy iterator:\n",
    "count = 0\n",
    "with open(INPUTS / \"day1.txt\", \"r\") as f:\n",
    "    for prev_, next_ in pairwise(map(int, f)):\n",
    "        count += next_ > prev_\n",
    "assert count == 1292\n",
    "\n",
    "def triplewise(it):\n",
    "    a, b, c = tee(it, 3)\n",
    "    next(b); next(c); next(c)\n",
    "    yield from zip(a, b, c)\n",
    "    \n",
    "def nwise(it, n):\n",
    "    its = tee(it, n)\n",
    "    for i, it in enumerate(its):\n",
    "        for _ in range(i):\n",
    "            next(it)\n",
    "    yield from zip(*its)\n",
    "    \n",
    "def triplewise_(it):\n",
    "    yield from nwise(it, 3)\n",
    "\n",
    "count = 0\n",
    "with open(INPUTS / \"day1.txt\", \"r\") as f:\n",
    "    sum_prev = float(\"+inf\")\n",
    "    for v1, v2, v3 in triplewise_(map(int, f)):\n",
    "        sum_ = v1 + v2 + v3\n",
    "        count += sum_ > sum_prev\n",
    "        sum_prev = sum_\n",
    "assert count == 1262"
   ]
  },
  {
   "cell_type": "markdown",
   "id": "a7588a0f",
   "metadata": {},
   "source": [
    "# Day 2"
   ]
  },
  {
   "cell_type": "code",
   "execution_count": 2,
   "id": "93c99a82",
   "metadata": {},
   "outputs": [
    {
     "name": "stdout",
     "output_type": "stream",
     "text": [
      "1905 907 1727835\n"
     ]
    }
   ],
   "source": [
    "from pathlib import Path\n",
    "\n",
    "INPUT_PATH = Path(\"aoc2021_inputs/day2.txt\")\n",
    "\n",
    "with open(INPUT_PATH, \"r\") as f:\n",
    "    moves = f.readlines()\n",
    "\n",
    "h, v = 0, 0\n",
    "for line in moves:\n",
    "    move, size = line.split()\n",
    "\n",
    "    if move == \"forward\":\n",
    "        h += int(size)\n",
    "    elif move == \"up\":\n",
    "        v -= int(size)\n",
    "    else:\n",
    "        v += int(size)\n",
    "        \n",
    "print(h, v, h * v)\n",
    "assert h * v == 1727835"
   ]
  },
  {
   "cell_type": "code",
   "execution_count": 3,
   "id": "bfc43ffb",
   "metadata": {},
   "outputs": [
    {
     "name": "stdout",
     "output_type": "stream",
     "text": [
      "1905 810499 907 1544000595\n"
     ]
    }
   ],
   "source": [
    "from pathlib import Path\n",
    "\n",
    "INPUT_PATH = Path(\"aoc2021_inputs/day2.txt\")\n",
    "\n",
    "with open(INPUT_PATH, \"r\") as f:\n",
    "    moves = f.readlines()\n",
    "    \n",
    "horiz, depth, aim = 0, 0, 0\n",
    "for line in moves:\n",
    "    move, size = line.split()\n",
    "    size = int(size)\n",
    "    \n",
    "    if move == \"forward\":\n",
    "        horiz += size\n",
    "        depth += size * aim\n",
    "    elif move == \"down\":\n",
    "        aim += size\n",
    "    else:\n",
    "        aim -= size\n",
    "        \n",
    "print(horiz, depth, aim, horiz * depth)"
   ]
  },
  {
   "cell_type": "markdown",
   "id": "550eab23",
   "metadata": {},
   "source": [
    "# Day 3"
   ]
  },
  {
   "cell_type": "code",
   "execution_count": 39,
   "id": "4c867cfa",
   "metadata": {},
   "outputs": [
    {
     "name": "stdout",
     "output_type": "stream",
     "text": [
      "749376\n",
      "3871\n",
      "613\n",
      "2372923\n"
     ]
    }
   ],
   "source": [
    "from collections import Counter\n",
    "from pathlib import Path\n",
    "\n",
    "INPUT_PATH = Path(\"aoc2021_inputs/day3.txt\")\n",
    "\n",
    "counter = Counter()\n",
    "with open(INPUT_PATH, \"r\") as f:\n",
    "    for line in f:\n",
    "        counter += Counter(enumerate(line.strip()))\n",
    "\n",
    "gamma, epsilon = 0, 0\n",
    "total_bits = len(counter) // 2\n",
    "for n in range(total_bits):\n",
    "    if counter[(n, \"1\")] > counter[(n, \"0\")]:\n",
    "        gamma |= 1 << (total_bits - n - 1)\n",
    "    else:\n",
    "        epsilon |= 1 << (total_bits - n - 1)\n",
    "print(gamma * epsilon)\n",
    "\n",
    "# --- part 2 ---\n",
    "\n",
    "with open(INPUT_PATH, \"r\") as f:\n",
    "    lines = f.readlines()\n",
    "\n",
    "under_consideration = lines\n",
    "prefix = \"\"\n",
    "while len(under_consideration) > 1:\n",
    "    c = Counter(line[:len(prefix) + 1] for line in under_consideration)\n",
    "    c[prefix + \"1\"] += 0.5  # Force ending in \"1\" to win in case of draw.\n",
    "    (prefix, count), = c.most_common(1)\n",
    "    under_consideration = [line for line in under_consideration if line.startswith(prefix)]\n",
    "oxygen = int(under_consideration[0], 2)\n",
    "print(oxygen)\n",
    "\n",
    "under_consideration = lines\n",
    "prefix = \"\"\n",
    "while len(under_consideration) > 1:\n",
    "    c = Counter(line[:len(prefix) + 1] for line in under_consideration)\n",
    "    c[prefix + \"0\"] -= 0.5  # Force ending in \"0\" to lose in case of draw\n",
    "    _, (prefix, count) = c.most_common(2)\n",
    "    under_consideration = [line for line in under_consideration if line.startswith(prefix)]\n",
    "co2 = int(under_consideration[0], 2)\n",
    "print(co2)\n",
    "\n",
    "print(oxygen * co2)"
   ]
  },
  {
   "cell_type": "markdown",
   "id": "ab6a16bd",
   "metadata": {},
   "source": [
    "# Day 4"
   ]
  },
  {
   "cell_type": "code",
   "execution_count": 3,
   "id": "e327861d",
   "metadata": {},
   "outputs": [
    {
     "name": "stdout",
     "output_type": "stream",
     "text": [
      "27027\n",
      "36975\n"
     ]
    }
   ],
   "source": [
    "from pathlib import Path\n",
    "\n",
    "INPUT_PATH = Path(\"aoc2021_inputs/day4.txt\")\n",
    "\n",
    "with open(INPUT_PATH, \"r\") as f:\n",
    "    nums = next(f).strip().split(\",\")  # Read order in which numbers are drawn.\n",
    "    data = f.read().strip()\n",
    "\n",
    "# Build dictionary storing the position of each number.\n",
    "num_pos = dict(zip(nums, range(len(nums))))\n",
    "\n",
    "# `boards` is a list of pairs (dirs, nums)\n",
    "# `dirs` contains a list of all the possible winning directions for a board;\n",
    "# `nums` is the set of all the numbers that show up in that board.\n",
    "boards = []\n",
    "for subdata in data.split(\"\\n\\n\"):\n",
    "    # Store the rows and columns in the same list.\n",
    "    directions = []\n",
    "    # Set to keep track of all the numbers the card contains.\n",
    "    numbers = set()\n",
    "    for row in subdata.split(\"\\n\"):\n",
    "        directions.append(row.split())\n",
    "        # Update the numbers with the ones of the current row.\n",
    "        numbers |= {*directions[-1]}\n",
    "    # Add columns to the directions list.\n",
    "    bs = len(directions)\n",
    "    directions += [\n",
    "        [directions[r][c] for r in range(bs)] for c in range(bs)\n",
    "    ]\n",
    "\n",
    "    boards.append((directions, numbers))\n",
    "\n",
    "# Go over each board and figure out when that board is done.\n",
    "done_at = [\n",
    "    min(max(num_pos[n] for n in dir_) for dir_ in dirs)\n",
    "    for dirs, _ in boards\n",
    "]\n",
    "\n",
    "def score_board(winning_move_idx):\n",
    "    _, board_nums = boards[done_at.index(winning_move_idx)]\n",
    "    unmarked_numbers = map(int, board_nums - set(nums[:winning_move_idx + 1]))\n",
    "    return sum(unmarked_numbers) * int(nums[winning_move_idx])\n",
    "\n",
    "print(score_board(min(done_at))) # part 1\n",
    "print(score_board(max(done_at))) # part 2"
   ]
  },
  {
   "cell_type": "markdown",
   "id": "60ed7a14",
   "metadata": {},
   "source": [
    "# Day 5"
   ]
  },
  {
   "cell_type": "code",
   "execution_count": 39,
   "id": "7d246906",
   "metadata": {
    "scrolled": true
   },
   "outputs": [
    {
     "name": "stdout",
     "output_type": "stream",
     "text": [
      "7142\n",
      "20012\n"
     ]
    }
   ],
   "source": [
    "from collections import Counter\n",
    "from pathlib import Path\n",
    "\n",
    "INPUT_PATH = Path(\"aoc2021_inputs/day5.txt\")\n",
    "\n",
    "def parse_line(string):\n",
    "    return [list(map(int, point.split(\",\"))) for point in string.split(\" -> \")]\n",
    "\n",
    "def sign(x):\n",
    "    return (x > 0) - (x < 0)\n",
    "\n",
    "def generate_segment(left, right):\n",
    "    (xl, yl), (xr, yr) = left, right\n",
    "    delta = max(abs(xl - xr), abs(yl - yr))\n",
    "    dx, dy = sign(xr - xl), sign(yr - yl)\n",
    "    return [(xl + dx * d, yl + dy * d) for d in range(delta + 1)]\n",
    "\n",
    "with open(INPUT_PATH, \"r\") as f:\n",
    "    points = [parse_line(line.strip()) for line in f]\n",
    "\n",
    "counter = Counter()\n",
    "for left, right in points:\n",
    "    (xl, yl), (xr, yr) = left, right\n",
    "    if xl != xr and yl != yr:\n",
    "        continue\n",
    "    counter += Counter(generate_segment(left, right))\n",
    "\n",
    "print(sum(cnt > 1 for _, cnt in counter.items()))\n",
    "\n",
    "counter = Counter()\n",
    "for left, right in points:\n",
    "    counter += Counter(generate_segment(left, right))\n",
    "\n",
    "print(sum(cnt > 1 for _, cnt in counter.items()))"
   ]
  },
  {
   "cell_type": "markdown",
   "id": "b6c944cf",
   "metadata": {},
   "source": [
    "# Day 6"
   ]
  },
  {
   "cell_type": "code",
   "execution_count": 1,
   "id": "5fb647bc",
   "metadata": {},
   "outputs": [
    {
     "name": "stdout",
     "output_type": "stream",
     "text": [
      "345387\n",
      "1574445493136\n"
     ]
    }
   ],
   "source": [
    "from collections import Counter\n",
    "from pathlib import Path\n",
    "\n",
    "INPUT_PATH = Path(\"aoc2021_inputs/day6.txt\")\n",
    "\n",
    "with open(INPUT_PATH, \"r\") as f:\n",
    "    lanternfish = [int(num) for num in f.readline().split(\",\")]\n",
    "    \n",
    "population = Counter(lanternfish)\n",
    "sizes = [population.total()]\n",
    "for cycle in [80, 256 - 80]:\n",
    "    for _ in range(cycle):\n",
    "        next_gen = Counter()\n",
    "        for age in range(8, 0, -1):\n",
    "            next_gen[age - 1] = population[age]\n",
    "        next_gen[8] = population[0]\n",
    "        next_gen[6] += population[0]\n",
    "        population = next_gen\n",
    "        sizes.append(population.total())\n",
    "    print(population.total())  # New in Python 3.10"
   ]
  },
  {
   "cell_type": "markdown",
   "id": "f3f662f8",
   "metadata": {},
   "source": [
    "# Day 7"
   ]
  },
  {
   "cell_type": "code",
   "execution_count": 22,
   "id": "71c1a087",
   "metadata": {},
   "outputs": [
    {
     "name": "stdout",
     "output_type": "stream",
     "text": [
      "349812\n",
      "99763899\n"
     ]
    }
   ],
   "source": [
    "from math import ceil\n",
    "from pathlib import Path\n",
    "from statistics import mean, median\n",
    "\n",
    "INPUT_PATH = Path(\"aoc2021_inputs/day7.txt\")\n",
    "\n",
    "with open(INPUT_PATH, \"r\") as f:\n",
    "    crabs = [int(num) for num in f.readline().split(\",\")]\n",
    "\n",
    "linear_alignment = round(median(crabs))\n",
    "print(sum(abs(linear_alignment - crab) for crab in crabs))\n",
    "quad_alignment_options = [c := ceil(mean(crabs)), c - 1]\n",
    "print(min(sum(\n",
    "    (d := abs(quad_alignment - crab)) * (d + 1) // 2\n",
    "     for crab in crabs\n",
    ") for quad_alignment in quad_alignment_options))"
   ]
  },
  {
   "cell_type": "markdown",
   "id": "6239f5a1",
   "metadata": {},
   "source": [
    "# Day 8"
   ]
  },
  {
   "cell_type": "code",
   "execution_count": 20,
   "id": "ff89fb94",
   "metadata": {},
   "outputs": [
    {
     "name": "stdout",
     "output_type": "stream",
     "text": [
      "264\n",
      "1063760\n"
     ]
    }
   ],
   "source": [
    "from collections import Counter\n",
    "from functools import reduce\n",
    "from pathlib import Path\n",
    "\n",
    "INPUT_PATH = Path(\"aoc2021_inputs/day8.txt\")\n",
    "\n",
    "segment_lengths = [6, 2, 5, 5, 4, 5, 6, 3, 7, 6]\n",
    "\n",
    "def with_length(clues, l):\n",
    "    return {s for s in clues if len(s) == l}\n",
    "\n",
    "def comp(clue):\n",
    "    return frozenset(\"abcdefg\") - clue\n",
    "\n",
    "def solve_clues(clues):\n",
    "    one = with_length(clues, 2).pop()\n",
    "    four = with_length(clues, 4).pop()\n",
    "    seven = with_length(clues, 3).pop()\n",
    "    eight = with_length(clues, 7).pop()\n",
    "\n",
    "    zero_six_nine = with_length(clues, 6)\n",
    "    six = [s for s in zero_six_nine if comp(s) < one][0]\n",
    "    zero_nine = zero_six_nine - {six}\n",
    "    zero = [s for s in zero_nine if comp(s) < four][0]\n",
    "    nine = (zero_nine - {zero}).pop()\n",
    "    \n",
    "    two_three_five = with_length(clues, 5)\n",
    "    three = [s for s in two_three_five if one < s][0]\n",
    "    two_five = two_three_five - {three}\n",
    "    five = [s for s in two_five if s < nine][0]\n",
    "    two = (two_five - {five}).pop()\n",
    "    return [zero, one, two, three, four, five, six, seven, eight, nine]\n",
    "    \n",
    "\n",
    "counter = Counter()\n",
    "with open(INPUT_PATH, \"r\") as f:\n",
    "    for line in f:\n",
    "        _, digits = line.split(\" | \")\n",
    "        counter.update(map(len, digits.strip().split()))\n",
    "print(sum(counter[segment_lengths[d]] for d in [1, 4, 7, 8]))\n",
    "\n",
    "outs = []\n",
    "with open(INPUT_PATH, \"r\") as f:\n",
    "    for line in f:\n",
    "        clue_strings, digits = line.split(\" | \")\n",
    "        clues = [frozenset(string) for string in clue_strings.split()]\n",
    "        solutions = solve_clues(clues)\n",
    "        digits = [solutions.index(frozenset(string)) for string in digits.strip().split()]\n",
    "        outs.append(reduce(lambda l, r: 10 * l + r, digits))\n",
    "print(sum(outs))"
   ]
  },
  {
   "cell_type": "markdown",
   "id": "a92e2075",
   "metadata": {},
   "source": [
    "# Day 9"
   ]
  },
  {
   "cell_type": "code",
   "execution_count": 15,
   "id": "91552328",
   "metadata": {},
   "outputs": [
    {
     "name": "stdout",
     "output_type": "stream",
     "text": [
      "502\n",
      "1330560\n"
     ]
    }
   ],
   "source": [
    "from math import prod\n",
    "from pathlib import Path\n",
    "\n",
    "def neighbouring_positions(matrix, r, c):\n",
    "    return {\n",
    "        (r_, c_) for r_, c_ in [(r - 1, c), (r, c - 1), (r + 1, c), (r, c + 1)]\n",
    "        if 0 <= r_ < len(matrix) and 0 <= c_ < len(matrix[0])\n",
    "    }\n",
    "\n",
    "def get_neighbours(matrix, r, c):\n",
    "    to_try = neighbouring_positions(matrix, r, c)\n",
    "    return {matrix[r_][c_] for r_, c_ in to_try}\n",
    "\n",
    "def find_basin(matrix, r, c):\n",
    "    to_visit, visited, basin = {(r, c)}, set(), set()\n",
    "    while to_visit:\n",
    "        r_, c_ = to_visit.pop()\n",
    "        if matrix[r_][c_] == 9:\n",
    "            continue\n",
    "        basin.add((r_, c_))\n",
    "        next_neighbours = neighbouring_positions(matrix, r_, c_)\n",
    "        to_visit.update(next_neighbours - visited)\n",
    "        visited.update(next_neighbours)\n",
    "    return basin\n",
    "\n",
    "INPUT_PATH = Path(\"aoc2021_inputs/day9.txt\")\n",
    "\n",
    "with open(INPUT_PATH, \"r\") as f:\n",
    "    matrix = [\n",
    "        [int(num) for num in line.strip()]\n",
    "        for line in f.readlines()\n",
    "    ]\n",
    "\n",
    "risk = 0\n",
    "low_point_locations = []\n",
    "for r, row in enumerate(matrix):\n",
    "    for c, val in enumerate(row):\n",
    "        neighbs = get_neighbours(matrix, r, c)\n",
    "        if min(neighbs) > val:\n",
    "            risk += val + 1\n",
    "            low_point_locations.append((r, c))\n",
    "print(risk)\n",
    "\n",
    "basin_sizes = []\n",
    "for low_point in low_point_locations:\n",
    "    basin = find_basin(matrix, *low_point)\n",
    "    basin_sizes.append(len(basin))\n",
    "print(prod(sorted(basin_sizes)[-3:]))"
   ]
  },
  {
   "cell_type": "markdown",
   "id": "74ef164b",
   "metadata": {},
   "source": [
    "# Day 10"
   ]
  },
  {
   "cell_type": "code",
   "execution_count": 8,
   "id": "febfef59",
   "metadata": {},
   "outputs": [
    {
     "name": "stdout",
     "output_type": "stream",
     "text": [
      "370407\n",
      "3249889609\n"
     ]
    }
   ],
   "source": [
    "from functools import reduce\n",
    "from pathlib import Path\n",
    "from statistics import median\n",
    "\n",
    "OPENING = {\"(\", \"[\", \"{\", \"<\"}  # Set with opening characters.\n",
    "CLOSING = {\")\": \"(\", \"]\": \"[\", \"}\": \"{\", \">\": \"<\"}  # Dict with opening character for each closing.\n",
    "CLOSE_WITH = {v: k for k, v in CLOSING.items()}     # Dict with closing character for each opening.\n",
    "CORRUPTED_SCORES = {\")\": 3, \"]\": 57, \"}\": 1197, \">\": 25137}  # Scores.\n",
    "COMPLETION_SCORES = {\")\": 1, \"]\": 2, \"}\": 3, \">\": 4}\n",
    "\n",
    "def from_digits(digits, base):\n",
    "    return reduce(lambda l, r: l * base + r, digits, 0)\n",
    "\n",
    "INPUT_PATH = Path(\"aoc2021_inputs/day10.txt\")\n",
    "\n",
    "with open(INPUT_PATH, \"r\") as f:\n",
    "    lines = f.readlines()\n",
    "\n",
    "corrupted_scores = 0\n",
    "completion_scores = []\n",
    "for line in lines:\n",
    "    stack = []\n",
    "    for char in line:\n",
    "        if char in OPENING:\n",
    "            stack.append(char)\n",
    "        elif char in CLOSING:\n",
    "            if stack[-1] == CLOSING[char]:\n",
    "                stack.pop()\n",
    "            else:\n",
    "                corrupted_scores += CORRUPTED_SCORES[char]\n",
    "                break\n",
    "    else:\n",
    "        digits = [COMPLETION_SCORES[CLOSE_WITH[char]] for char in reversed(stack)]\n",
    "        completion_scores.append(from_digits(digits, 5))\n",
    "print(corrupted_scores)\n",
    "print(median(completion_scores))"
   ]
  },
  {
   "cell_type": "markdown",
   "id": "bbdbf3ab",
   "metadata": {},
   "source": [
    "# Day 11"
   ]
  },
  {
   "cell_type": "code",
   "execution_count": 13,
   "id": "e696f716",
   "metadata": {},
   "outputs": [
    {
     "name": "stdout",
     "output_type": "stream",
     "text": [
      "1585\n",
      "382\n"
     ]
    }
   ],
   "source": [
    "from collections import defaultdict\n",
    "from pathlib import Path\n",
    "\n",
    "INPUT_PATH = Path(\"aoc2021_inputs/day11.txt\")\n",
    "\n",
    "grid = defaultdict(lambda: float(\"-inf\"))\n",
    "with open(INPUT_PATH, \"r\") as f:\n",
    "    grid |= {\n",
    "        (r, c): int(val)\n",
    "        for r, line in enumerate(f) for c, val in enumerate(line.strip())\n",
    "    }\n",
    "\n",
    "def neighbouring_positions(r, c):\n",
    "    return [\n",
    "        (r + 1, c), (r + 1, c + 1), (r, c + 1), (r - 1, c + 1),\n",
    "        (r - 1, c), (r - 1, c - 1), (r, c - 1), (r + 1, c - 1),\n",
    "    ]\n",
    "\n",
    "flashes, flashed, step = 0, set(), 0\n",
    "while len(flashed) < 100:\n",
    "    step += 1\n",
    "    flashed = set()\n",
    "    to_increment = [(r, c) for r in range(10) for c in range(10)]\n",
    "    while to_increment:\n",
    "        r, c = to_increment.pop()\n",
    "        if not ((0 <= r < 10) and (0 <= c < 10)):\n",
    "            continue\n",
    "        grid[r, c] += 1\n",
    "        if grid[r, c] > 9 and (r, c) not in flashed:\n",
    "            flashes += 1\n",
    "            flashed.add((r, c))\n",
    "            to_increment.extend(neighbouring_positions(r, c))\n",
    "    for r in range(10):\n",
    "        for c in range(10):\n",
    "            grid[r, c] = 0 if grid[r, c] > 9 else grid[r, c]\n",
    "    if step == 100:\n",
    "        print(flashes)\n",
    "print(step)"
   ]
  },
  {
   "cell_type": "markdown",
   "id": "b0b04567",
   "metadata": {},
   "source": [
    "# Day 12"
   ]
  },
  {
   "cell_type": "code",
   "execution_count": 15,
   "id": "ea220213",
   "metadata": {},
   "outputs": [
    {
     "name": "stdout",
     "output_type": "stream",
     "text": [
      "3410\n",
      "98796\n"
     ]
    }
   ],
   "source": [
    "from collections import defaultdict\n",
    "from pathlib import Path\n",
    "\n",
    "INPUT_PATH = Path(\"aoc2021_inputs/day12.txt\")\n",
    "\n",
    "def count_paths(graph, path_built, can_revisit=True):\n",
    "    if path_built and path_built[-1] == \"end\":\n",
    "        return 1\n",
    "\n",
    "    return sum(\n",
    "        count_paths(\n",
    "            graph,\n",
    "            path_built + [next_stop],\n",
    "            can_revisit and not (next_stop.islower() and next_stop in path_built),\n",
    "        )\n",
    "        for next_stop in graph[path_built[-1]]\n",
    "        if next_stop not in path_built or next_stop.isupper() or can_revisit\n",
    "    )\n",
    "\n",
    "with open(INPUT_PATH, \"r\") as f:\n",
    "    lines = f.readlines()\n",
    "\n",
    "graph = defaultdict(list)\n",
    "for line in lines:\n",
    "    pt1, pt2 = line.strip().split(\"-\")\n",
    "    graph[pt1].append(pt2)\n",
    "    graph[pt2].append(pt1)\n",
    "# Make sure no cave points back at the “start” cave.\n",
    "for connections in graph.values():\n",
    "    try:\n",
    "        connections.remove(\"start\")\n",
    "    except ValueError:\n",
    "        pass\n",
    "\n",
    "print(count_paths(graph, [\"start\"], False))\n",
    "print(count_paths(graph, [\"start\"], True))"
   ]
  },
  {
   "cell_type": "markdown",
   "id": "d9fcf325",
   "metadata": {},
   "source": [
    "# Day 13"
   ]
  },
  {
   "cell_type": "code",
   "execution_count": 2,
   "id": "674665b4",
   "metadata": {
    "scrolled": true
   },
   "outputs": [
    {
     "name": "stdout",
     "output_type": "stream",
     "text": [
      "████  ██  █  █  ██  █  █ ███  ████  ██ \n",
      "█    █  █ █ █  █  █ █ █  █  █    █ █  █\n",
      "███  █    ██   █    ██   ███    █  █   \n",
      "█    █ ██ █ █  █    █ █  █  █  █   █ ██\n",
      "█    █  █ █ █  █  █ █ █  █  █ █    █  █\n",
      "█     ███ █  █  ██  █  █ ███  ████  ███\n"
     ]
    }
   ],
   "source": [
    "from itertools import chain\n",
    "from pathlib import Path\n",
    "\n",
    "INPUT_PATH = Path(\"aoc2021_inputs/day13.txt\")\n",
    "\n",
    "with open(INPUT_PATH, \"r\") as f:\n",
    "    contents = f.read()\n",
    "\n",
    "def fold(points, fold_point):\n",
    "    xf, yf = fold_point\n",
    "    return {\n",
    "        (x if x < xf else 2 * xf - x, y if y < yf else 2 * yf - y)\n",
    "        for x, y in points\n",
    "    }\n",
    "\n",
    "point_data, fold_data = contents.split(\"\\n\\n\")\n",
    "points = {tuple(map(int, line.split(\",\"))) for line in point_data.splitlines()}\n",
    "folds = fold_data.splitlines()\n",
    "\n",
    "MAX_COORD = 1 + max(chain.from_iterable(points))\n",
    "\n",
    "for fold_string in folds:\n",
    "    coord, value = fold_string.removeprefix(\"fold along \").split(\"=\")\n",
    "    fold_point = (\n",
    "        int(value) if coord == \"x\" else MAX_COORD,\n",
    "        int(value) if coord == \"y\" else MAX_COORD,\n",
    "    )\n",
    "    points = fold(points, fold_point)\n",
    "\n",
    "width = max(x for x, _ in points) + 1\n",
    "height = max(y for _, y in points) + 1\n",
    "result = [[\" \"] * width for _ in range(height)]\n",
    "for x, y in points:\n",
    "    result[y][x] = \"\\u2588\"\n",
    "print(\"\\n\".join(\"\".join(line) for line in result))"
   ]
  },
  {
   "cell_type": "markdown",
   "id": "263337ea",
   "metadata": {},
   "source": [
    "# Day 14"
   ]
  },
  {
   "cell_type": "code",
   "execution_count": 28,
   "id": "9212149d",
   "metadata": {},
   "outputs": [
    {
     "name": "stdout",
     "output_type": "stream",
     "text": [
      "3015383850689\n"
     ]
    }
   ],
   "source": [
    "from collections import Counter\n",
    "from itertools import chain\n",
    "from math import ceil\n",
    "from pathlib import Path\n",
    "\n",
    "try:\n",
    "    from itertools import pairwise  # Python 3.10\n",
    "except ImportError:\n",
    "    from itertools import tee\n",
    "    def pairwise(it):\n",
    "        it1, it2 = tee(it, 2)\n",
    "        next(it2)\n",
    "        yield from zip(it1, it2)\n",
    "\n",
    "INPUT_PATH = Path(\"aoc2021_inputs/day14.txt\")\n",
    "\n",
    "with open(INPUT_PATH, \"r\") as f:\n",
    "    polymer = f.readline().strip()\n",
    "    f.readline()  # empty line\n",
    "    rules = dict(line.strip().split(\" -> \") for line in f)\n",
    "\n",
    "counter = Counter(\"\".join(item) for item in pairwise(polymer))\n",
    "\n",
    "for _ in range(40):\n",
    "    new_counter = Counter()\n",
    "    for (char1, char2), count in counter.items():\n",
    "        target = rules[char1 + char2]\n",
    "        new_counter[char1 + target] += count\n",
    "        new_counter[target + char2] += count\n",
    "    counter = new_counter\n",
    "\n",
    "element_counter = Counter()\n",
    "for (char1, char2), count in counter.items():\n",
    "    element_counter[char1] += count\n",
    "    element_counter[char2] += count\n",
    "print(ceil(max(element_counter.values()) / 2) - ceil(min(element_counter.values()) / 2))"
   ]
  },
  {
   "cell_type": "code",
   "execution_count": 26,
   "id": "459dd638",
   "metadata": {},
   "outputs": [
    {
     "data": {
      "text/plain": [
       "'FNFPPNKPPHSOKFFHOFOC'"
      ]
     },
     "execution_count": 26,
     "metadata": {},
     "output_type": "execute_result"
    }
   ],
   "source": [
    "polymer"
   ]
  },
  {
   "cell_type": "code",
   "execution_count": null,
   "id": "b21ccffa",
   "metadata": {},
   "outputs": [],
   "source": []
  }
 ],
 "metadata": {
  "kernelspec": {
   "display_name": "Python 3 (ipykernel)",
   "language": "python",
   "name": "python3"
  },
  "language_info": {
   "codemirror_mode": {
    "name": "ipython",
    "version": 3
   },
   "file_extension": ".py",
   "mimetype": "text/x-python",
   "name": "python",
   "nbconvert_exporter": "python",
   "pygments_lexer": "ipython3",
   "version": "3.9.7"
  },
  "toc": {
   "base_numbering": 1,
   "nav_menu": {},
   "number_sections": false,
   "sideBar": true,
   "skip_h1_title": true,
   "title_cell": "Table of Contents",
   "title_sidebar": "Contents",
   "toc_cell": false,
   "toc_position": {},
   "toc_section_display": true,
   "toc_window_display": false
  }
 },
 "nbformat": 4,
 "nbformat_minor": 5
}
